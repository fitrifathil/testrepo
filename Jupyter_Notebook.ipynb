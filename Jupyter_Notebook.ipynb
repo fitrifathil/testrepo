{
  "metadata": {
    "kernelspec": {
      "name": "python",
      "display_name": "Pyolite",
      "language": "python"
    },
    "language_info": {
      "codemirror_mode": {
        "name": "python",
        "version": 3
      },
      "file_extension": ".py",
      "mimetype": "text/x-python",
      "name": "python",
      "nbconvert_exporter": "python",
      "pygments_lexer": "ipython3",
      "version": "3.8"
    }
  },
  "nbformat_minor": 4,
  "nbformat": 4,
  "cells": [
    {
      "cell_type": "markdown",
      "source": "<center>\n    <img src=\"https://s3-api.us-geo.objectstorage.softlayer.net/cf-courses-data/CognitiveClass/Logos/organization_logo/organization_logo.png\" width=\"300\" alt=\"cognitiveclass.ai logo\"  />\n</center>\n",
      "metadata": {}
    },
    {
      "cell_type": "markdown",
      "source": "# My Jupyter Notebook on IBM Watson Studio",
      "metadata": {}
    },
    {
      "cell_type": "markdown",
      "source": "**Muhammad Fitri Bin Mohamed Fathil** <br>\nJunior Data Scientist",
      "metadata": {}
    },
    {
      "cell_type": "markdown",
      "source": "*I am interest in data science because I can see that Data Science will bring huge impact on any companies that are trying to increase their revenue and also making swiser decisions to imporve their customer's User Experience. I wouldlike to pursue data science because I want to be a part of that huge impact and future proof myself by becoming data literate*",
      "metadata": {}
    },
    {
      "cell_type": "markdown",
      "source": "### The cell below will add the number 1 with 1",
      "metadata": {}
    },
    {
      "cell_type": "code",
      "source": "1+1",
      "metadata": {
        "trusted": true
      },
      "execution_count": 4,
      "outputs": [
        {
          "execution_count": 4,
          "output_type": "execute_result",
          "data": {
            "text/plain": "2"
          },
          "metadata": {}
        }
      ]
    },
    {
      "cell_type": "markdown",
      "source": "***\n\n- Main bullet point\n    - Sub bullet point\n\n1. Numbered Item 1\n2. Numbered Item 2\n\n| Syntax | Description|\n|:--------:|:------------:|\n|Header  |Title       |\n|Paragraph|Text       |\n\n__[This is a link to Youtube](https://www.youtube.com)__",
      "metadata": {}
    },
    {
      "cell_type": "code",
      "source": "",
      "metadata": {},
      "execution_count": null,
      "outputs": []
    }
  ]
}